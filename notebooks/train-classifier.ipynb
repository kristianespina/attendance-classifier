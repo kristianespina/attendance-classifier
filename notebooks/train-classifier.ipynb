{
 "cells": [
  {
   "cell_type": "code",
   "execution_count": 120,
   "id": "c1b60ac2",
   "metadata": {},
   "outputs": [],
   "source": [
    "from sklearn.feature_selection import RFECV\n",
    "from sklearn.model_selection import train_test_split\n",
    "import numpy as np\n",
    "import pandas as pd"
   ]
  },
  {
   "cell_type": "code",
   "execution_count": 121,
   "id": "1359fb8f",
   "metadata": {},
   "outputs": [],
   "source": [
    "# Load dataset\n",
    "df = pd.read_csv('../dataset/attendance.csv')"
   ]
  },
  {
   "cell_type": "code",
   "execution_count": 122,
   "id": "1d2844da",
   "metadata": {},
   "outputs": [],
   "source": [
    "# Label Encoding\n",
    "from sklearn.preprocessing import LabelEncoder\n",
    "\n",
    "labelencoder = LabelEncoder()\n",
    "df['y'] = labelencoder.fit_transform(df['result'])"
   ]
  },
  {
   "cell_type": "code",
   "execution_count": 123,
   "id": "6db1f6f2",
   "metadata": {},
   "outputs": [],
   "source": [
    "X = df['command'].values\n",
    "y = df['y'].values"
   ]
  },
  {
   "cell_type": "code",
   "execution_count": 124,
   "id": "c9abb4d0",
   "metadata": {},
   "outputs": [],
   "source": [
    "# Create features\n",
    "from sklearn.feature_extraction.text import TfidfVectorizer\n",
    "tfidf = TfidfVectorizer(\n",
    "    sublinear_tf=True, \n",
    "    min_df=3, norm='l2', \n",
    "    encoding='latin-1', \n",
    "    ngram_range=(1, 2))"
   ]
  },
  {
   "cell_type": "code",
   "execution_count": 125,
   "id": "8c3cdc52",
   "metadata": {},
   "outputs": [],
   "source": [
    "# split into train test sets\n",
    "X_train, X_test, y_train, y_test = train_test_split(X, y, test_size=0.2)"
   ]
  },
  {
   "cell_type": "code",
   "execution_count": 126,
   "id": "9fa5c49b",
   "metadata": {},
   "outputs": [],
   "source": [
    "# Model\n",
    "from sklearn.svm import LinearSVC\n",
    "from xgboost import XGBClassifier\n",
    "#model = LinearSVC()\n",
    "model = XGBClassifier(objective=\"multiclass\", eval_metric=\"mlogloss\", random_state=42, use_label_encoder=False)\n"
   ]
  },
  {
   "cell_type": "code",
   "execution_count": 127,
   "id": "d0170a7e",
   "metadata": {},
   "outputs": [],
   "source": [
    "from sklearn.pipeline import Pipeline"
   ]
  },
  {
   "cell_type": "code",
   "execution_count": 128,
   "id": "7ffc4b8f",
   "metadata": {},
   "outputs": [],
   "source": [
    "pipeline = Pipeline([('tfidf', tfidf), ('classifier', model)])"
   ]
  },
  {
   "cell_type": "code",
   "execution_count": 129,
   "id": "a6b33c7d",
   "metadata": {},
   "outputs": [
    {
     "data": {
      "text/plain": [
       "Pipeline(steps=[('tfidf',\n",
       "                 TfidfVectorizer(encoding='latin-1', min_df=3,\n",
       "                                 ngram_range=(1, 2), sublinear_tf=True)),\n",
       "                ('classifier',\n",
       "                 XGBClassifier(base_score=0.5, booster='gbtree',\n",
       "                               colsample_bylevel=1, colsample_bynode=1,\n",
       "                               colsample_bytree=1, enable_categorical=False,\n",
       "                               eval_metric='mlogloss', gamma=0, gpu_id=-1,\n",
       "                               importance_type=None, interaction_constraints='',\n",
       "                               learning_rate=0.300000012, max_delta_step=0,\n",
       "                               max_depth=6, min_child_weight=1, missing=nan,\n",
       "                               monotone_constraints='()', n_estimators=100,\n",
       "                               n_jobs=8, num_parallel_tree=1,\n",
       "                               objective='multi:softprob', predictor='auto',\n",
       "                               random_state=42, reg_alpha=0, reg_lambda=1,\n",
       "                               scale_pos_weight=None, subsample=1,\n",
       "                               tree_method='exact', use_label_encoder=False,\n",
       "                               validate_parameters=1, ...))])"
      ]
     },
     "execution_count": 129,
     "metadata": {},
     "output_type": "execute_result"
    }
   ],
   "source": [
    "pipeline.fit(X_train, y_train)"
   ]
  },
  {
   "cell_type": "code",
   "execution_count": 130,
   "id": "f9bdb989",
   "metadata": {},
   "outputs": [
    {
     "data": {
      "text/plain": [
       "0.7692307692307693"
      ]
     },
     "execution_count": 130,
     "metadata": {},
     "output_type": "execute_result"
    }
   ],
   "source": [
    "pipeline.score(X_test, y_test)"
   ]
  },
  {
   "cell_type": "code",
   "execution_count": 131,
   "id": "acaba34a",
   "metadata": {},
   "outputs": [
    {
     "data": {
      "text/plain": [
       "array([[0.04223435, 0.01389132, 0.9358522 , 0.00459011, 0.00343203]],\n",
       "      dtype=float32)"
      ]
     },
     "execution_count": 131,
     "metadata": {},
     "output_type": "execute_result"
    }
   ],
   "source": [
    "pipeline.predict_proba([\"time in po muna\"])"
   ]
  },
  {
   "cell_type": "code",
   "execution_count": 132,
   "id": "3f60fc07",
   "metadata": {},
   "outputs": [
    {
     "data": {
      "text/plain": [
       "array(['BREAK', 'RESUME', 'TIMEIN', 'TIMEOUT', 'UNKNOWN'], dtype=object)"
      ]
     },
     "execution_count": 132,
     "metadata": {},
     "output_type": "execute_result"
    }
   ],
   "source": [
    "labelencoder.classes_"
   ]
  },
  {
   "cell_type": "code",
   "execution_count": 133,
   "id": "1e80b996",
   "metadata": {},
   "outputs": [],
   "source": [
    "def classify(command):\n",
    "    classes = labelencoder.classes_\n",
    "    prediction = pipeline.predict_proba([command])[0]\n",
    "    predicted_class = np.where(prediction == np.amax(prediction))\n",
    "    idx = predicted_class[0][0]\n",
    "    return classes[idx], prediction[idx]\n"
   ]
  },
  {
   "cell_type": "code",
   "execution_count": 134,
   "id": "64dfe36e",
   "metadata": {},
   "outputs": [
    {
     "data": {
      "text/plain": [
       "('BREAK', 0.9545426)"
      ]
     },
     "execution_count": 134,
     "metadata": {},
     "output_type": "execute_result"
    }
   ],
   "source": [
    "classify(\"time out po muna\")\n",
    "#classify(\"break po muna ako. balik ako later\")\n",
    "#classify(\"papasok po si cassy\")\n",
    "#classify(\"time out po muna ako ngayon\")"
   ]
  },
  {
   "cell_type": "markdown",
   "id": "d99a6ac5",
   "metadata": {},
   "source": [
    "# Save Model"
   ]
  },
  {
   "cell_type": "code",
   "execution_count": 135,
   "id": "8c3da2cf",
   "metadata": {},
   "outputs": [],
   "source": [
    "# Save Model using pickle\n",
    "import pickle\n",
    "filename = '../models/attendance_classifier.pickle'\n",
    "classifier = {\n",
    "    \"model\": pipeline,\n",
    "    \"classes\": labelencoder.classes_\n",
    "}\n",
    "pickle.dump(classifier, open(filename, 'wb'))"
   ]
  },
  {
   "cell_type": "code",
   "execution_count": 136,
   "id": "c3a2eab5",
   "metadata": {},
   "outputs": [
    {
     "data": {
      "text/plain": [
       "0.7692307692307693"
      ]
     },
     "execution_count": 136,
     "metadata": {},
     "output_type": "execute_result"
    }
   ],
   "source": [
    "# Load Model using pickle\n",
    "loaded_classifier = pickle.load(open(filename, 'rb'))\n",
    "loaded_classifier[\"model\"].score(X_test, y_test)"
   ]
  },
  {
   "cell_type": "code",
   "execution_count": 137,
   "id": "07b587e3",
   "metadata": {},
   "outputs": [],
   "source": [
    "# Metrics\n",
    "from sklearn.metrics import confusion_matrix, ConfusionMatrixDisplay\n",
    "import matplotlib.pyplot as plt\n",
    "\n",
    "y_hat = pipeline.predict(X_test)\n",
    "\n",
    "def plot_confusion_matrix(model):\n",
    "    cm = confusion_matrix(y_test, y_hat, labels=model.classes_)\n",
    "    disp = ConfusionMatrixDisplay(confusion_matrix=cm, display_labels=labelencoder.classes_)\n",
    "    disp.plot()\n",
    "    plt.show()"
   ]
  },
  {
   "cell_type": "code",
   "execution_count": 138,
   "id": "539b4a29",
   "metadata": {},
   "outputs": [
    {
     "name": "stdout",
     "output_type": "stream",
     "text": [
      "time for now RESUME UNKNOWN\n",
      "time in again TIMEIN RESUME\n",
      "timeout muna TIMEOUT BREAK\n"
     ]
    }
   ],
   "source": [
    "# display failed predictions\n",
    "for text, prediction, truth in zip(X_test, y_hat, y_test):\n",
    "    if(prediction == truth):\n",
    "        continue\n",
    "    print(text, labelencoder.classes_[prediction], labelencoder.classes_[truth])"
   ]
  },
  {
   "cell_type": "code",
   "execution_count": 139,
   "id": "549baa18",
   "metadata": {},
   "outputs": [
    {
     "data": {
      "image/png": "[encoded data removed]",
      "text/plain": [
       "<Figure size 432x288 with 2 Axes>"
      ]
     },
     "metadata": {
      "needs_background": "light"
     },
     "output_type": "display_data"
    }
   ],
   "source": [
    "plot_confusion_matrix(pipeline)"
   ]
  },
  {
   "cell_type": "code",
   "execution_count": 140,
   "id": "936eba8a",
   "metadata": {},
   "outputs": [
    {
     "data": {
      "text/plain": [
       "('RESUME', 0.50138825)"
      ]
     },
     "execution_count": 140,
     "metadata": {},
     "output_type": "execute_result"
    }
   ],
   "source": [
    "classify(\"tilein uoit\")"
   ]
  },
  {
   "cell_type": "code",
   "execution_count": 141,
   "id": "02349b8e",
   "metadata": {},
   "outputs": [
    {
     "data": {
      "text/plain": [
       "('BREAK', 0.9545426)"
      ]
     },
     "execution_count": 141,
     "metadata": {},
     "output_type": "execute_result"
    }
   ],
   "source": [
    "classify(\"time out po muna ako hehe\")"
   ]
  },
  {
   "cell_type": "code",
   "execution_count": 151,
   "id": "fb79232b",
   "metadata": {},
   "outputs": [
    {
     "data": {
      "text/plain": [
       "('BREAK', 0.9723829)"
      ]
     },
     "execution_count": 151,
     "metadata": {},
     "output_type": "execute_result"
    }
   ],
   "source": [
    "classify(\"break po muna. balik ako maya maya\")"
   ]
  },
  {
   "cell_type": "code",
   "execution_count": 155,
   "id": "8ed70c86",
   "metadata": {},
   "outputs": [
    {
     "data": {
      "text/plain": [
       "('TIMEIN', 0.8329646)"
      ]
     },
     "execution_count": 155,
     "metadata": {},
     "output_type": "execute_result"
    }
   ],
   "source": [
    "classify(\"I'd like to time in\")"
   ]
  },
  {
   "cell_type": "code",
   "execution_count": null,
   "id": "aef71a45",
   "metadata": {},
   "outputs": [],
   "source": []
  }
 ],
 "metadata": {
  "kernelspec": {
   "display_name": "Python 3 (ipykernel)",
   "language": "python",
   "name": "python3"
  },
  "language_info": {
   "codemirror_mode": {
    "name": "ipython",
    "version": 3
   },
   "file_extension": ".py",
   "mimetype": "text/x-python",
   "name": "python",
   "nbconvert_exporter": "python",
   "pygments_lexer": "ipython3",
   "version": "3.9.7"
  }
 },
 "nbformat": 4,
 "nbformat_minor": 5
}
